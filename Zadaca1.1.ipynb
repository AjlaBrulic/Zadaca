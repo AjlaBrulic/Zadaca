{
 "cells": [
  {
   "cell_type": "code",
   "execution_count": 1,
   "metadata": {},
   "outputs": [
    {
     "name": "stdout",
     "output_type": "stream",
     "text": [
      "['Aphrodite', 'Poseidon', 'Dionysus']\n"
     ]
    }
   ],
   "source": [
    "from urllib.request import urlopen\n",
    "import re\n",
    "url = \"http://olympus.realpython.org/profiles\"\n",
    "page = urlopen(url)\n",
    "html_text = page.read().decode(\"utf-8\")\n",
    "\n",
    "string='/profiles/aphrodite\">'\n",
    "string_start_idx = html_text.find(string)\n",
    "string_start_idx = html_text.find(string)\n",
    "text_start_idx = string_start_idx + len(string)\n",
    "\n",
    "next_html_tag_offset = html_text[text_start_idx:].find(\"<\")\n",
    "text_end_idx = text_start_idx + next_html_tag_offset\n",
    "\n",
    "raw_text = html_text[text_start_idx : text_end_idx]\n",
    "\n",
    "\n",
    "string2='/profiles/poseidon\">'\n",
    "string_start_idx2 = html_text.find(string2)\n",
    "string_start_idx2 = html_text.find(string2)\n",
    "text_start_idx2 = string_start_idx2 + len(string2)\n",
    "\n",
    "next_html_tag_offset2 = html_text[text_start_idx2:].find(\"<\")\n",
    "text_end_idx2 = text_start_idx2 + next_html_tag_offset2\n",
    "\n",
    "raw_text2 = html_text[text_start_idx2 : text_end_idx2]\n",
    "\n",
    "\n",
    "\n",
    "string3='/profiles/dionysus\">'\n",
    "string_start_idx3 = html_text.find(string3)\n",
    "string_start_idx3 = html_text.find(string3)\n",
    "text_start_idx3 = string_start_idx3 + len(string3)\n",
    "\n",
    "next_html_tag_offset3 = html_text[text_start_idx3:].find(\"<\")\n",
    "text_end_idx3 = text_start_idx3 + next_html_tag_offset3\n",
    "\n",
    "raw_text3 = html_text[text_start_idx3 : text_end_idx3]\n",
    "\n",
    "\n",
    "list=[raw_text,raw_text2,raw_text3]\n",
    "print(list)"
   ]
  },
  {
   "cell_type": "code",
   "execution_count": null,
   "metadata": {},
   "outputs": [],
   "source": []
  }
 ],
 "metadata": {
  "kernelspec": {
   "display_name": "Python 3",
   "language": "python",
   "name": "python3"
  },
  "language_info": {
   "codemirror_mode": {
    "name": "ipython",
    "version": 3
   },
   "file_extension": ".py",
   "mimetype": "text/x-python",
   "name": "python",
   "nbconvert_exporter": "python",
   "pygments_lexer": "ipython3",
   "version": "3.8.3"
  }
 },
 "nbformat": 4,
 "nbformat_minor": 4
}
